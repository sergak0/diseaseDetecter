{
  "nbformat": 4,
  "nbformat_minor": 0,
  "metadata": {
    "colab": {
      "name": "diseasesClassificator.ipynb",
      "provenance": []
    },
    "kernelspec": {
      "name": "python3",
      "display_name": "Python 3"
    }
  },
  "cells": [
    {
      "cell_type": "code",
      "metadata": {
        "id": "ObRaExjHUFPz",
        "colab_type": "code",
        "cellView": "code",
        "colab": {}
      },
      "source": [
        "#@title Текст заголовка по умолчанию\n",
        "from google.colab import files # Для работы с файлами \n",
        "import numpy as np # Для работы с данными \n",
        "import pandas as pd # Для работы с таблицами\n",
        "import matplotlib.pyplot as plt # Для вывода графиков\n",
        "import os # Для работы с файлами\n",
        "%matplotlib inline\n",
        "\n",
        "from tensorflow.keras import utils # Для работы с категориальными данными\n",
        "from tensorflow.keras.models import Sequential, Model # Полносвязная модель\n",
        "from tensorflow.keras.layers import Dense, Dropout, SpatialDropout1D, BatchNormalization, Embedding, Flatten, Activation, concatenate, Input # Слои для сети\n",
        "from tensorflow.keras.preprocessing.text import Tokenizer # Методы для работы с текстами и преобразования их в последовательности\n",
        "from tensorflow.keras.preprocessing.sequence import pad_sequences # Метод для работы с последовательностями\n",
        "from tensorflow.keras.layers import Dense, Dropout, BatchNormalization, Embedding, Flatten, Activation\n",
        "# Загружаем сверточные слои\n",
        "from tensorflow.keras.layers import Conv1D, SpatialDropout1D, MaxPooling1D, GlobalAveragePooling1D, GlobalMaxPooling1D\n",
        "# Загружаем рекуррентные слои\n",
        "from tensorflow.keras.layers import LSTM, GRU, SimpleRNN, Bidirectional\n",
        "# Загружаем алгоритмы обучения/оптимизации\n",
        "#from tensorflow.python.keras.optimizers import Adam, RMSprop\n",
        "from tensorflow.keras.optimizers import Adam, RMSprop\n",
        "from sklearn.preprocessing import LabelEncoder # Метод кодирования тестовых лейблов\n",
        "from sklearn.model_selection import train_test_split # Для разделения выборки на тестовую и обучающую\n",
        "from google.colab import drive # Для работы с Google Drive\n",
        "import time # Импортируем библиотеку time\n",
        "import os"
      ],
      "execution_count": null,
      "outputs": []
    },
    {
      "cell_type": "code",
      "metadata": {
        "id": "VcIC_mEaUsQJ",
        "colab_type": "code",
        "colab": {
          "base_uri": "https://localhost:8080/",
          "height": 121
        },
        "outputId": "851ee9db-6f84-4f03-b6fa-4874fea582d1"
      },
      "source": [
        "from google.colab import drive\n",
        "drive.mount('/content/drive')"
      ],
      "execution_count": null,
      "outputs": [
        {
          "output_type": "stream",
          "text": [
            "Go to this URL in a browser: https://accounts.google.com/o/oauth2/auth?client_id=947318989803-6bn6qk8qdgf4n4g3pfee6491hc0brc4i.apps.googleusercontent.com&redirect_uri=urn%3aietf%3awg%3aoauth%3a2.0%3aoob&response_type=code&scope=email%20https%3a%2f%2fwww.googleapis.com%2fauth%2fdocs.test%20https%3a%2f%2fwww.googleapis.com%2fauth%2fdrive%20https%3a%2f%2fwww.googleapis.com%2fauth%2fdrive.photos.readonly%20https%3a%2f%2fwww.googleapis.com%2fauth%2fpeopleapi.readonly\n",
            "\n",
            "Enter your authorization code:\n",
            "··········\n",
            "Mounted at /content/drive\n"
          ],
          "name": "stdout"
        }
      ]
    },
    {
      "cell_type": "code",
      "metadata": {
        "id": "GYeKb-CZUuvf",
        "colab_type": "code",
        "colab": {}
      },
      "source": [
        "!unzip -q '/content/drive/My Drive/DATAS/diseases.zip' -d /content/"
      ],
      "execution_count": null,
      "outputs": []
    },
    {
      "cell_type": "code",
      "metadata": {
        "id": "LXKQ-DjnWuzC",
        "colab_type": "code",
        "colab": {
          "base_uri": "https://localhost:8080/",
          "height": 185
        },
        "outputId": "34a2bc98-f47b-448d-c62b-e93cc3d67f77"
      },
      "source": [
        "classes = [x[:-4] for x in os.listdir('Болезни/')]\n",
        "n = len(classes)\n",
        "xLen = 50\n",
        "classes"
      ],
      "execution_count": null,
      "outputs": [
        {
          "output_type": "execute_result",
          "data": {
            "text/plain": [
              "['Энтерит',\n",
              " 'Панкреатит',\n",
              " 'Язва',\n",
              " 'Колит',\n",
              " 'Аппендицит',\n",
              " 'Дуоденит',\n",
              " 'Гепатит',\n",
              " 'Гастрит',\n",
              " 'Эзофагит',\n",
              " 'Холицестит']"
            ]
          },
          "metadata": {
            "tags": []
          },
          "execution_count": 4
        }
      ]
    },
    {
      "cell_type": "code",
      "metadata": {
        "id": "ZUWwTZEqXt9N",
        "colab_type": "code",
        "colab": {}
      },
      "source": [
        "data = []\n",
        "for name in classes :\n",
        "  data.append(open('Болезни/' + name + '.txt').read().replace(\"\\n\", \" \"))"
      ],
      "execution_count": null,
      "outputs": []
    },
    {
      "cell_type": "code",
      "metadata": {
        "id": "3S9-3JWdYO1J",
        "colab_type": "code",
        "colab": {}
      },
      "source": [
        "maxWordsCount = 5000\n",
        "tokenizer = Tokenizer(num_words = maxWordsCount, filters='!\"$%&()*+,-–—./…:;<=>?@[\\\\]^_`{|}~«»\\t\\n\\xa0', lower = True, split = ' ', oov_token = 'unknown', char_level = False)\n",
        "tokenizer.fit_on_texts(data)\n",
        "items = list(tokenizer.word_index.items())\n",
        "data = tokenizer.texts_to_sequences(data)"
      ],
      "execution_count": null,
      "outputs": []
    },
    {
      "cell_type": "code",
      "metadata": {
        "id": "aepdPhWjYjUs",
        "colab_type": "code",
        "colab": {
          "base_uri": "https://localhost:8080/",
          "height": 202
        },
        "outputId": "5b1493ab-7b66-4f68-a15f-7719c856c12e"
      },
      "source": [
        "print(len(items))\n",
        "items[:10]"
      ],
      "execution_count": null,
      "outputs": [
        {
          "output_type": "stream",
          "text": [
            "1981\n"
          ],
          "name": "stdout"
        },
        {
          "output_type": "execute_result",
          "data": {
            "text/plain": [
              "[('unknown', 1),\n",
              " ('в', 2),\n",
              " ('и', 3),\n",
              " ('боль', 4),\n",
              " ('тошнота', 5),\n",
              " ('или', 6),\n",
              " ('рвота', 7),\n",
              " ('боли', 8),\n",
              " ('живота', 9),\n",
              " ('при', 10)]"
            ]
          },
          "metadata": {
            "tags": []
          },
          "execution_count": 7
        }
      ]
    },
    {
      "cell_type": "code",
      "metadata": {
        "id": "V-9I7g2OYlI6",
        "colab_type": "code",
        "colab": {}
      },
      "source": [
        "def getSetFromIndexes(wordIndexes, xLen, step): # функция принимает последовательность индексов, размер окна, шаг окна\n",
        "  xSample = [] # Объявляем переменную для векторов\n",
        "  wordsLen = len(wordIndexes) # Считаем количество слов\n",
        "  index = 0 # Задаем начальный индекс \n",
        "\n",
        "  while (index + xLen <= wordsLen):# Идём по всей длине вектора индексов\n",
        "    xSample.append(wordIndexes[index:index+xLen]) # \"Откусываем\" векторы длины xLen\n",
        "    index += step # Смещаеммся вперёд на step\n",
        "    \n",
        "  return xSample"
      ],
      "execution_count": null,
      "outputs": []
    },
    {
      "cell_type": "markdown",
      "metadata": {
        "id": "fuXo5Uf7aNZv",
        "colab_type": "text"
      },
      "source": [
        "**BagOfWords**"
      ]
    },
    {
      "cell_type": "code",
      "metadata": {
        "id": "16m1cgrGYzlY",
        "colab_type": "code",
        "colab": {}
      },
      "source": [
        "x_test = []\n",
        "y_test = []\n",
        "x_train = []\n",
        "y_train = []\n",
        "for i in range(n) :\n",
        "  for j in getSetFromIndexes(data[i][:- int(len(data[i]) * 0.2)], xLen, 10) :\n",
        "      x_train.append(j)\n",
        "      y_train.append(utils.to_categorical(i, n))\n",
        "  for j in getSetFromIndexes(data[i][-int(len(data[i]) * 0.2) : ], xLen, 10) :\n",
        "      x_test.append(j)\n",
        "      y_test.append(utils.to_categorical(i, n))\n",
        "x_test = tokenizer.sequences_to_matrix(x_test, mode='binary')\n",
        "y_test = np.array(y_test)\n",
        "x_train = tokenizer.sequences_to_matrix(x_train, mode='binary')\n",
        "y_train = np.array(y_train)"
      ],
      "execution_count": null,
      "outputs": []
    },
    {
      "cell_type": "code",
      "metadata": {
        "id": "caR884JmZDuD",
        "colab_type": "code",
        "colab": {}
      },
      "source": [
        "#x_train, x_test, y_train, y_test = train_test_split(X, Y, shuffle = True, test_size = 0.25, random_state = 42) "
      ],
      "execution_count": null,
      "outputs": []
    },
    {
      "cell_type": "code",
      "metadata": {
        "id": "BXqEuxafctdt",
        "colab_type": "code",
        "colab": {
          "base_uri": "https://localhost:8080/",
          "height": 726
        },
        "outputId": "b6089881-8bb3-45c0-dae2-f9f1434233c5"
      },
      "source": [
        "from tensorflow.keras.optimizers import Adam, Adadelta\n",
        "model = Sequential()\n",
        "model.add(BatchNormalization())\n",
        "model.add(Dense(128, input_dim = maxWordsCount, activation = 'sigmoid'))\n",
        "model.add(Dropout(0.3))\n",
        "model.add(Dense(64,  activation = 'sigmoid'))\n",
        "model.add(Dropout(0.3))\n",
        "model.add(Dense(n, activation='softmax'))\n",
        "batch_size = [32, 32]\n",
        "lr = [0.001, 0.0001]\n",
        "epoch = [10, 5]\n",
        "\n",
        "T = 2\n",
        "fig, axs = plt.subplots(1, T, figsize=(25, 3))\n",
        "for i in range(T) :\n",
        "  model.compile(loss=\"categorical_crossentropy\", optimizer=RMSprop(lr[i]), metrics=[\"accuracy\", 'mae'])\n",
        "\n",
        "  history = model.fit(x_train, \n",
        "                      y_train, \n",
        "                      batch_size=batch_size[i], \n",
        "                      epochs=epoch[i],\n",
        "                      validation_data=(x_test, y_test),\n",
        "                      verbose=1)\n",
        "  axs[i].plot(history.history['accuracy'], label = 'train accuracy')\n",
        "  axs[i].plot(history.history['val_accuracy'], label = 'validation accuracy')\n",
        "  axs[i].legend()\n",
        "plt.xlabel('Epoch')\n",
        "plt.ylabel('% right answer')\n",
        "plt.show()"
      ],
      "execution_count": null,
      "outputs": [
        {
          "output_type": "stream",
          "text": [
            "Epoch 1/10\n",
            "20/20 [==============================] - 0s 24ms/step - loss: 2.0892 - accuracy: 0.2822 - mae: 0.1707 - val_loss: 2.1310 - val_accuracy: 0.2137 - val_mae: 0.1742\n",
            "Epoch 2/10\n",
            "20/20 [==============================] - 0s 13ms/step - loss: 1.5870 - accuracy: 0.5889 - mae: 0.1526 - val_loss: 2.0603 - val_accuracy: 0.2137 - val_mae: 0.1723\n",
            "Epoch 3/10\n",
            "20/20 [==============================] - 0s 13ms/step - loss: 1.2371 - accuracy: 0.7749 - mae: 0.1337 - val_loss: 1.9546 - val_accuracy: 0.4188 - val_mae: 0.1694\n",
            "Epoch 4/10\n",
            "20/20 [==============================] - 0s 13ms/step - loss: 0.9378 - accuracy: 0.8989 - mae: 0.1124 - val_loss: 1.8669 - val_accuracy: 0.6581 - val_mae: 0.1676\n",
            "Epoch 5/10\n",
            "20/20 [==============================] - 0s 14ms/step - loss: 0.7214 - accuracy: 0.9462 - mae: 0.0947 - val_loss: 1.7077 - val_accuracy: 0.4444 - val_mae: 0.1581\n",
            "Epoch 6/10\n",
            "20/20 [==============================] - 0s 13ms/step - loss: 0.5659 - accuracy: 0.9804 - mae: 0.0792 - val_loss: 1.5671 - val_accuracy: 0.6752 - val_mae: 0.1526\n",
            "Epoch 7/10\n",
            "20/20 [==============================] - 0s 21ms/step - loss: 0.4511 - accuracy: 0.9853 - mae: 0.0663 - val_loss: 1.4076 - val_accuracy: 0.6923 - val_mae: 0.1394\n",
            "Epoch 8/10\n",
            "20/20 [==============================] - 0s 22ms/step - loss: 0.3558 - accuracy: 0.9967 - mae: 0.0546 - val_loss: 1.2747 - val_accuracy: 0.7607 - val_mae: 0.1302\n",
            "Epoch 9/10\n",
            "20/20 [==============================] - 0s 22ms/step - loss: 0.2542 - accuracy: 0.9967 - mae: 0.0414 - val_loss: 1.2376 - val_accuracy: 0.6667 - val_mae: 0.1172\n",
            "Epoch 10/10\n",
            "20/20 [==============================] - 1s 27ms/step - loss: 0.2102 - accuracy: 0.9951 - mae: 0.0349 - val_loss: 1.0707 - val_accuracy: 0.7436 - val_mae: 0.1099\n",
            "Epoch 1/5\n",
            "20/20 [==============================] - 1s 33ms/step - loss: 0.1634 - accuracy: 0.9984 - mae: 0.0283 - val_loss: 1.0288 - val_accuracy: 0.7692 - val_mae: 0.1048\n",
            "Epoch 2/5\n",
            "20/20 [==============================] - 0s 23ms/step - loss: 0.1689 - accuracy: 0.9984 - mae: 0.0291 - val_loss: 0.9986 - val_accuracy: 0.7778 - val_mae: 0.1012\n",
            "Epoch 3/5\n",
            "20/20 [==============================] - 0s 23ms/step - loss: 0.1513 - accuracy: 1.0000 - mae: 0.0266 - val_loss: 0.9760 - val_accuracy: 0.7778 - val_mae: 0.0980\n",
            "Epoch 4/5\n",
            "20/20 [==============================] - 0s 24ms/step - loss: 0.1406 - accuracy: 0.9984 - mae: 0.0249 - val_loss: 0.9557 - val_accuracy: 0.7778 - val_mae: 0.0954\n",
            "Epoch 5/5\n",
            "20/20 [==============================] - 0s 23ms/step - loss: 0.1571 - accuracy: 1.0000 - mae: 0.0273 - val_loss: 0.9333 - val_accuracy: 0.7692 - val_mae: 0.0932\n"
          ],
          "name": "stdout"
        },
        {
          "output_type": "display_data",
          "data": {
            "image/png": "[encoded data removed]",
            "text/plain": [
              "<Figure size 1800x216 with 2 Axes>"
            ]
          },
          "metadata": {
            "tags": [],
            "needs_background": "light"
          }
        }
      ]
    },
    {
      "cell_type": "markdown",
      "metadata": {
        "id": "oKibwZkQa4mM",
        "colab_type": "text"
      },
      "source": [
        "**Рекурентные сети**"
      ]
    },
    {
      "cell_type": "code",
      "metadata": {
        "id": "Sns3KW-6gVhN",
        "colab_type": "code",
        "colab": {}
      },
      "source": [
        "x_test = []\n",
        "y_test = []\n",
        "x_train = []\n",
        "y_train = []\n",
        "for i in range(n) :\n",
        "  for j in getSetFromIndexes(data[i][:-int(len(data[i]) * 0.2)], xLen, 10) :\n",
        "      x_train.append(j)\n",
        "      y_train.append(utils.to_categorical(i, n))\n",
        "  for j in getSetFromIndexes(data[i][-int(len(data[i]) * 0.2) : ], xLen, 10) :\n",
        "      x_test.append(j)\n",
        "      y_test.append(utils.to_categorical(i, n))\n",
        "x_test = np.array(x_test)\n",
        "y_test = np.array(y_test)\n",
        "x_train = np.array(x_train)\n",
        "y_train = np.array(y_train)"
      ],
      "execution_count": null,
      "outputs": []
    },
    {
      "cell_type": "code",
      "metadata": {
        "id": "Z1uVqoqIgZ-_",
        "colab_type": "code",
        "colab": {}
      },
      "source": [
        "#x_train, x_test, y_train, y_test = train_test_split(X, Y, shuffle = True, test_size = 0.25, random_state = 42) "
      ],
      "execution_count": null,
      "outputs": []
    },
    {
      "cell_type": "code",
      "metadata": {
        "id": "pPINiAQUWO0m",
        "colab_type": "code",
        "colab": {
          "base_uri": "https://localhost:8080/",
          "height": 34
        },
        "outputId": "c1141f17-13c1-4373-cbeb-973b265c4999"
      },
      "source": [
        "print(x_train.shape)"
      ],
      "execution_count": null,
      "outputs": [
        {
          "output_type": "stream",
          "text": [
            "(613, 50)\n"
          ],
          "name": "stdout"
        }
      ]
    },
    {
      "cell_type": "markdown",
      "metadata": {
        "id": "-NzedR0dXbiz",
        "colab_type": "text"
      },
      "source": [
        "Only LSTM"
      ]
    },
    {
      "cell_type": "code",
      "metadata": {
        "id": "hR2pTgIzZc6R",
        "colab_type": "code",
        "colab": {
          "base_uri": "https://localhost:8080/",
          "height": 1000
        },
        "outputId": "115d1e5c-d4bd-469d-e3d1-c63f1e53a929"
      },
      "source": [
        "\n",
        "model = Sequential()\n",
        "model.add(Embedding(maxWordsCount, 5, input_length = xLen))\n",
        "model.add(SpatialDropout1D(0.2))\n",
        "model.add(BatchNormalization())\n",
        "model.add(LSTM(5, return_sequences = True))\n",
        "model.add(LSTM(30))\n",
        "model.add(Dense(n, activation='softmax')) \n",
        "\n",
        "model.compile(optimizer='rmsprop', \n",
        "              loss='categorical_crossentropy', \n",
        "              metrics=['accuracy'])\n",
        "\n",
        "history = model.fit(x_train, \n",
        "                    y_train, \n",
        "                    epochs=50,\n",
        "                    batch_size=32,\n",
        "                    validation_data=(x_test, y_test))\n",
        "\n",
        "plt.plot(history.history['accuracy'], \n",
        "         label='Доля верных ответов на обучающем наборе')\n",
        "plt.plot(history.history['val_accuracy'], \n",
        "         label='Доля верных ответов на проверочном наборе')\n",
        "plt.xlabel('Эпоха обучения')\n",
        "plt.ylabel('Доля верных ответов')\n",
        "plt.legend()\n",
        "plt.show()"
      ],
      "execution_count": null,
      "outputs": [
        {
          "output_type": "stream",
          "text": [
            "Epoch 1/50\n",
            "20/20 [==============================] - 2s 82ms/step - loss: 2.2548 - accuracy: 0.1648 - val_loss: 2.2539 - val_accuracy: 0.1624\n",
            "Epoch 2/50\n",
            "20/20 [==============================] - 1s 45ms/step - loss: 1.9785 - accuracy: 0.2463 - val_loss: 2.3858 - val_accuracy: 0.1026\n",
            "Epoch 3/50\n",
            "20/20 [==============================] - 1s 45ms/step - loss: 1.8730 - accuracy: 0.2594 - val_loss: 2.2826 - val_accuracy: 0.1026\n",
            "Epoch 4/50\n",
            "20/20 [==============================] - 1s 46ms/step - loss: 1.7807 - accuracy: 0.2741 - val_loss: 2.2155 - val_accuracy: 0.2137\n",
            "Epoch 5/50\n",
            "20/20 [==============================] - 1s 45ms/step - loss: 1.7126 - accuracy: 0.3687 - val_loss: 2.1708 - val_accuracy: 0.2137\n",
            "Epoch 6/50\n",
            "20/20 [==============================] - 1s 46ms/step - loss: 1.5988 - accuracy: 0.4046 - val_loss: 2.1627 - val_accuracy: 0.2137\n",
            "Epoch 7/50\n",
            "20/20 [==============================] - 1s 46ms/step - loss: 1.4759 - accuracy: 0.4470 - val_loss: 2.2000 - val_accuracy: 0.2137\n",
            "Epoch 8/50\n",
            "20/20 [==============================] - 1s 44ms/step - loss: 1.3432 - accuracy: 0.4943 - val_loss: 2.3789 - val_accuracy: 0.2137\n",
            "Epoch 9/50\n",
            "20/20 [==============================] - 1s 46ms/step - loss: 1.3150 - accuracy: 0.5106 - val_loss: 2.0356 - val_accuracy: 0.2564\n",
            "Epoch 10/50\n",
            "20/20 [==============================] - 1s 46ms/step - loss: 1.2415 - accuracy: 0.5546 - val_loss: 2.0220 - val_accuracy: 0.1966\n",
            "Epoch 11/50\n",
            "20/20 [==============================] - 1s 47ms/step - loss: 1.1851 - accuracy: 0.6117 - val_loss: 2.0803 - val_accuracy: 0.1880\n",
            "Epoch 12/50\n",
            "20/20 [==============================] - 1s 46ms/step - loss: 1.1401 - accuracy: 0.6199 - val_loss: 2.3148 - val_accuracy: 0.1453\n",
            "Epoch 13/50\n",
            "20/20 [==============================] - 1s 47ms/step - loss: 1.0672 - accuracy: 0.6852 - val_loss: 1.9034 - val_accuracy: 0.2564\n",
            "Epoch 14/50\n",
            "20/20 [==============================] - 1s 46ms/step - loss: 1.0217 - accuracy: 0.7047 - val_loss: 1.8783 - val_accuracy: 0.2821\n",
            "Epoch 15/50\n",
            "20/20 [==============================] - 1s 44ms/step - loss: 0.9909 - accuracy: 0.6884 - val_loss: 1.9828 - val_accuracy: 0.2564\n",
            "Epoch 16/50\n",
            "20/20 [==============================] - 1s 45ms/step - loss: 0.9512 - accuracy: 0.7080 - val_loss: 2.0952 - val_accuracy: 0.2222\n",
            "Epoch 17/50\n",
            "20/20 [==============================] - 1s 46ms/step - loss: 0.8712 - accuracy: 0.7488 - val_loss: 1.9644 - val_accuracy: 0.2564\n",
            "Epoch 18/50\n",
            "20/20 [==============================] - 1s 46ms/step - loss: 0.8673 - accuracy: 0.7308 - val_loss: 2.1768 - val_accuracy: 0.2308\n",
            "Epoch 19/50\n",
            "20/20 [==============================] - 1s 45ms/step - loss: 0.8227 - accuracy: 0.7651 - val_loss: 2.0003 - val_accuracy: 0.1709\n",
            "Epoch 20/50\n",
            "20/20 [==============================] - 1s 46ms/step - loss: 0.7661 - accuracy: 0.7667 - val_loss: 2.0352 - val_accuracy: 0.1709\n",
            "Epoch 21/50\n",
            "20/20 [==============================] - 1s 45ms/step - loss: 0.7446 - accuracy: 0.7700 - val_loss: 1.8674 - val_accuracy: 0.2906\n",
            "Epoch 22/50\n",
            "20/20 [==============================] - 1s 46ms/step - loss: 0.7328 - accuracy: 0.7667 - val_loss: 1.8003 - val_accuracy: 0.3077\n",
            "Epoch 23/50\n",
            "20/20 [==============================] - 1s 45ms/step - loss: 0.7218 - accuracy: 0.7863 - val_loss: 1.7793 - val_accuracy: 0.3333\n",
            "Epoch 24/50\n",
            "20/20 [==============================] - 1s 45ms/step - loss: 0.6739 - accuracy: 0.7879 - val_loss: 1.8207 - val_accuracy: 0.3248\n",
            "Epoch 25/50\n",
            "20/20 [==============================] - 1s 46ms/step - loss: 0.6944 - accuracy: 0.7684 - val_loss: 1.8989 - val_accuracy: 0.3077\n",
            "Epoch 26/50\n",
            "20/20 [==============================] - 1s 45ms/step - loss: 0.6298 - accuracy: 0.8075 - val_loss: 1.9377 - val_accuracy: 0.3248\n",
            "Epoch 27/50\n",
            "20/20 [==============================] - 1s 47ms/step - loss: 0.6166 - accuracy: 0.8075 - val_loss: 1.8896 - val_accuracy: 0.3248\n",
            "Epoch 28/50\n",
            "20/20 [==============================] - 1s 45ms/step - loss: 0.5943 - accuracy: 0.8075 - val_loss: 1.7968 - val_accuracy: 0.3590\n",
            "Epoch 29/50\n",
            "20/20 [==============================] - 1s 47ms/step - loss: 0.5776 - accuracy: 0.7961 - val_loss: 1.9136 - val_accuracy: 0.3077\n",
            "Epoch 30/50\n",
            "20/20 [==============================] - 1s 45ms/step - loss: 0.5991 - accuracy: 0.8042 - val_loss: 1.5805 - val_accuracy: 0.4188\n",
            "Epoch 31/50\n",
            "20/20 [==============================] - 1s 46ms/step - loss: 0.5651 - accuracy: 0.7961 - val_loss: 1.7761 - val_accuracy: 0.3590\n",
            "Epoch 32/50\n",
            "20/20 [==============================] - 1s 46ms/step - loss: 0.4658 - accuracy: 0.8564 - val_loss: 1.8602 - val_accuracy: 0.3590\n",
            "Epoch 33/50\n",
            "20/20 [==============================] - 1s 46ms/step - loss: 0.5230 - accuracy: 0.8434 - val_loss: 1.8067 - val_accuracy: 0.3846\n",
            "Epoch 34/50\n",
            "20/20 [==============================] - 1s 46ms/step - loss: 0.5329 - accuracy: 0.8467 - val_loss: 1.9345 - val_accuracy: 0.3077\n",
            "Epoch 35/50\n",
            "20/20 [==============================] - 1s 45ms/step - loss: 0.4980 - accuracy: 0.8434 - val_loss: 1.6925 - val_accuracy: 0.4017\n",
            "Epoch 36/50\n",
            "20/20 [==============================] - 1s 45ms/step - loss: 0.4658 - accuracy: 0.8809 - val_loss: 1.8063 - val_accuracy: 0.3932\n",
            "Epoch 37/50\n",
            "20/20 [==============================] - 1s 46ms/step - loss: 0.4345 - accuracy: 0.8809 - val_loss: 1.7771 - val_accuracy: 0.3675\n",
            "Epoch 38/50\n",
            "20/20 [==============================] - 1s 46ms/step - loss: 0.4177 - accuracy: 0.8891 - val_loss: 1.8713 - val_accuracy: 0.3846\n",
            "Epoch 39/50\n",
            "20/20 [==============================] - 1s 46ms/step - loss: 0.4320 - accuracy: 0.8793 - val_loss: 1.9610 - val_accuracy: 0.3248\n",
            "Epoch 40/50\n",
            "20/20 [==============================] - 1s 45ms/step - loss: 0.4191 - accuracy: 0.8695 - val_loss: 1.9964 - val_accuracy: 0.2991\n",
            "Epoch 41/50\n",
            "20/20 [==============================] - 1s 47ms/step - loss: 0.3698 - accuracy: 0.9119 - val_loss: 1.8544 - val_accuracy: 0.3675\n",
            "Epoch 42/50\n",
            "20/20 [==============================] - 1s 46ms/step - loss: 0.4397 - accuracy: 0.8777 - val_loss: 1.8471 - val_accuracy: 0.3504\n",
            "Epoch 43/50\n",
            "20/20 [==============================] - 1s 45ms/step - loss: 0.3777 - accuracy: 0.9054 - val_loss: 2.0269 - val_accuracy: 0.3248\n",
            "Epoch 44/50\n",
            "20/20 [==============================] - 1s 47ms/step - loss: 0.3772 - accuracy: 0.9054 - val_loss: 1.9567 - val_accuracy: 0.3333\n",
            "Epoch 45/50\n",
            "20/20 [==============================] - 1s 45ms/step - loss: 0.3995 - accuracy: 0.8907 - val_loss: 2.2001 - val_accuracy: 0.3077\n",
            "Epoch 46/50\n",
            "20/20 [==============================] - 1s 46ms/step - loss: 0.4438 - accuracy: 0.8793 - val_loss: 1.9676 - val_accuracy: 0.2906\n",
            "Epoch 47/50\n",
            "20/20 [==============================] - 1s 47ms/step - loss: 0.3727 - accuracy: 0.8989 - val_loss: 1.9846 - val_accuracy: 0.3162\n",
            "Epoch 48/50\n",
            "20/20 [==============================] - 1s 46ms/step - loss: 0.3958 - accuracy: 0.8874 - val_loss: 2.1713 - val_accuracy: 0.3162\n",
            "Epoch 49/50\n",
            "20/20 [==============================] - 1s 46ms/step - loss: 0.3496 - accuracy: 0.9135 - val_loss: 2.2009 - val_accuracy: 0.2479\n",
            "Epoch 50/50\n",
            "20/20 [==============================] - 1s 46ms/step - loss: 0.3315 - accuracy: 0.9152 - val_loss: 2.0464 - val_accuracy: 0.3333\n"
          ],
          "name": "stdout"
        },
        {
          "output_type": "display_data",
          "data": {
            "image/png": "[encoded data removed]",
            "text/plain": [
              "<Figure size 432x288 with 1 Axes>"
            ]
          },
          "metadata": {
            "tags": [],
            "needs_background": "light"
          }
        }
      ]
    },
    {
      "cell_type": "code",
      "metadata": {
        "id": "UGsiM_L75YiC",
        "colab_type": "code",
        "colab": {}
      },
      "source": [
        ""
      ],
      "execution_count": null,
      "outputs": []
    }
  ]
}